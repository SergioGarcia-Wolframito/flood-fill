{
 "cells": [
  {
   "cell_type": "markdown",
   "metadata": {},
   "source": [
    "# Fill from Outflow Points Example"
   ]
  },
  {
   "cell_type": "code",
   "execution_count": 1,
   "metadata": {},
   "outputs": [],
   "source": [
    "import heapq\n",
    "import os\n",
    "\n",
    "import matplotlib\n",
    "import matplotlib.pyplot as plt\n",
    "import numpy as np\n",
    "from osgeo import gdal\n",
    "\n",
    "import fill\n",
    "\n",
    "%matplotlib inline\n",
    "matplotlib.rcParams['figure.figsize'] = (10, 10)"
   ]
  },
  {
   "cell_type": "markdown",
   "metadata": {},
   "source": [
    "### Build a test array"
   ]
  },
  {
   "cell_type": "code",
   "execution_count": 2,
   "metadata": {},
   "outputs": [
    {
     "name": "stdout",
     "output_type": "stream",
     "text": [
      "[[ 1.   1.   1.   1.   1.   1. ]\n",
      " [ 1.   0.1  1.   1.   1.   1. ]\n",
      " [ 0.1  0.6  0.2  0.3  1.   1. ]\n",
      " [ 0.2  0.7  0.3  0.4  0.1  1. ]\n",
      " [ 1.   0.8  0.4  1.   1.   1. ]\n",
      " [ 1.   1.   0.2  1.   1.   1. ]]\n",
      "[[0 0 0 0 0 0]\n",
      " [0 1 1 1 1 0]\n",
      " [0 1 1 1 1 0]\n",
      " [0 1 1 1 1 0]\n",
      " [0 1 1 1 1 0]\n",
      " [0 1 1 1 1 0]]\n",
      "0.1\n"
     ]
    }
   ],
   "source": [
    "dem_adj = np.array([\n",
    "    [1.0, 1.0, 1.0, 1.0, 1.0, 1.0],\n",
    "    [1.0, 0.1, 1.0, 1.0, 1.0, 1.0],\n",
    "    [0.1, 0.6, 0.2, 0.3, 1.0, 1.0],\n",
    "    [0.2, 0.7, 0.3, 0.4, 0.1, 1.0],\n",
    "    [1.0, 0.8, 0.4, 1.0, 1.0, 1.0],\n",
    "    [1.0, 1.0, 0.2, 1.0, 1.0, 1.0],\n",
    "])\n",
    "hru_type = np.array([\n",
    "    [0, 0, 0, 0, 0, 0],\n",
    "    [0, 1, 1, 1, 1, 0],\n",
    "    [0, 1, 1, 1, 1, 0],\n",
    "    [0, 1, 1, 1, 1, 0],\n",
    "    [0, 1, 1, 1, 1, 0],\n",
    "    [0, 1, 1, 1, 1, 0],\n",
    "])\n",
    "outflow_pts = [[3, 4]]\n",
    "print(dem_adj)\n",
    "print(hru_type)\n",
    "print(dem_adj[outflow_pts[0][0], outflow_pts[0][1]])"
   ]
  },
  {
   "cell_type": "code",
   "execution_count": 3,
   "metadata": {},
   "outputs": [],
   "source": [
    "def outflow_fill(input_array, outflow_pts, four_way=False):\n",
    "    \"\"\"\n",
    "    Flood fill depressions/sinks in floating point array from outflow points\n",
    "\n",
    "\n",
    "    Parameters\n",
    "    ----------\n",
    "    input_array : ndarray\n",
    "        Input array to be filled\n",
    "    outflow_pts : list\n",
    "        List of outflow array coordinates (row, col)\n",
    "    four_way : bool, optional\n",
    "        If True, search 4 immediately adjacent cells\n",
    "            (cross structuring element)\n",
    "        If False, search all 8 adjacent cells\n",
    "            (square structuring element).\n",
    "        The Default is False.\n",
    "\n",
    "    Returns\n",
    "    -------\n",
    "    out : ndarray\n",
    "        Filled array\n",
    "\n",
    "    References\n",
    "    ----------\n",
    "    .. [1] Soille and Gratin, 1994. An Efficient Algorithm for Drainage\n",
    "        Networks Extraction on DEMs. Journal of Visual Communication and Image\n",
    "        Representation, 5(2), 181-189\n",
    "    .. [2] Liu et al., 2009. Another Fast and Simple DEM Depression-Filling\n",
    "        Algorithm Based on Priority Queue Structure. Atmopsheric and Oceanic\n",
    "        Science Letters, 2(4) 214-219\n",
    "\n",
    "    \"\"\"\n",
    "    print('Outflow Point Flood Fill')\n",
    "\n",
    "    # Rename or copy input so that input_array is a local variable?\n",
    "    # input_array = np.copy(input_array)\n",
    "\n",
    "    # Build mask of outflow point cells\n",
    "    # Should we check if outflow cells are active?\n",
    "    data_mask = np.isfinite(input_array)\n",
    "    outflow_mask = np.zeros(data_mask.shape, dtype=np.bool)\n",
    "    for out_row, out_col in outflow_pts:\n",
    "        outflow_mask[out_row, out_col] = 1\n",
    "\n",
    "    # Set h_max to a value larger than the array maximum to ensure\n",
    "    #   that the while loop will terminate\n",
    "    h_max = np.nanmax(input_array) + 10\n",
    "    print('  h_max: {}'.format(h_max))\n",
    "\n",
    "    # Initialize output array\n",
    "    # Set masked/inactive cells to nan (these will be reset before returning)\n",
    "    # Set active/non-outflow cells to h_max (these values will be \"eroded\")\n",
    "    output_array = np.copy(input_array)\n",
    "    output_array[~data_mask] = np.nan\n",
    "    output_array[data_mask & (~outflow_mask)] = h_max\n",
    "\n",
    "    # Build priority queue and place outflow pixels into priority queue\n",
    "    # Last value is flag to indicate if cell is an outflow cell\n",
    "    put = heapq.heappush\n",
    "    get = heapq.heappop\n",
    "    fill_heap = [\n",
    "        (output_array[t_row, t_col], int(t_row), int(t_col), True)\n",
    "        for t_row, t_col in np.transpose(np.where(outflow_mask))]\n",
    "    heapq.heapify(fill_heap)\n",
    "\n",
    "    def neighbors(row, col, four_way=False):\n",
    "        \"\"\"Return indices of adjacent cells\"\"\"\n",
    "        if four_way:\n",
    "            return [\n",
    "                (row - 1, col), (row, col + 1),\n",
    "                (row + 1, col), (row, col - 1)]\n",
    "        else:\n",
    "            return [\n",
    "                (row - 1, col), (row - 1, col + 1),\n",
    "                (row, col + 1), (row + 1, col + 1),\n",
    "                (row + 1, col), (row + 1, col - 1),\n",
    "                (row, col - 1), (row - 1, col - 1)]\n",
    "\n",
    "    # Iterate until priority queue is empty\n",
    "    while True:\n",
    "        try:\n",
    "            h_crt, t_row, t_col, outflow_flag = get(fill_heap)\n",
    "        except IndexError:\n",
    "            break\n",
    "        for n_row, n_col in neighbors(t_row, t_col, four_way):\n",
    "            # Skip cell if an outflow cell\n",
    "            try:\n",
    "                if outflow_mask[n_row, n_col] or not data_mask[n_row, n_col]:\n",
    "                    continue\n",
    "            except IndexError:\n",
    "                continue\n",
    "                \n",
    "            if output_array[n_row, n_col] == h_max:\n",
    "                output_array[n_row, n_col] = max(\n",
    "                    h_crt, input_array[n_row, n_col])\n",
    "                put(fill_heap, (output_array[n_row, n_col], n_row, n_col, False))\n",
    "                \n",
    "    # Reset masked/nodata values to their original value\n",
    "    output_array[~data_mask] = input_array[~data_mask]\n",
    "    \n",
    "    return output_array"
   ]
  },
  {
   "cell_type": "markdown",
   "metadata": {},
   "source": [
    "### Set inactive cells to nodata and compute fill"
   ]
  },
  {
   "cell_type": "code",
   "execution_count": 4,
   "metadata": {},
   "outputs": [
    {
     "name": "stdout",
     "output_type": "stream",
     "text": [
      "[[ 1.   1.   1.   1.   1.   1. ]\n",
      " [ 1.   0.1  1.   1.   1.   1. ]\n",
      " [ 0.1  0.6  0.2  0.3  1.   1. ]\n",
      " [ 0.2  0.7  0.3  0.4  0.1  1. ]\n",
      " [ 1.   0.8  0.4  1.   1.   1. ]\n",
      " [ 1.   1.   0.2  1.   1.   1. ]]\n",
      "Outflow Point Flood Fill\n",
      "  h_max: 11.0\n",
      "[[ 1.   1.   1.   1.   1.   1. ]\n",
      " [ 1.   0.3  1.   1.   1.   1. ]\n",
      " [ 0.1  0.6  0.3  0.3  1.   1. ]\n",
      " [ 0.2  0.7  0.3  0.4  0.1  1. ]\n",
      " [ 1.   0.8  0.4  1.   1.   1. ]\n",
      " [ 1.   1.   0.4  1.   1.   1. ]]\n"
     ]
    }
   ],
   "source": [
    "dem_fill = dem_adj.copy()\n",
    "print(dem_fill)\n",
    "dem_mask = (hru_type > 0)\n",
    "dem_fill[~dem_mask] = np.nan\n",
    "\n",
    "dem_fill = outflow_fill(dem_fill, outflow_pts, four_way=False)\n",
    "dem_fill[~dem_mask] = dem_adj[~dem_mask]\n",
    "print(dem_fill)"
   ]
  },
  {
   "cell_type": "code",
   "execution_count": 5,
   "metadata": {},
   "outputs": [
    {
     "name": "stdout",
     "output_type": "stream",
     "text": [
      "[[ 1.   1.   1.   1.   1.   1. ]\n",
      " [ 1.   0.1  1.   1.   1.   1. ]\n",
      " [ 0.1  0.6  0.2  0.3  1.   1. ]\n",
      " [ 0.2  0.7  0.3  0.4  0.1  1. ]\n",
      " [ 1.   0.8  0.4  1.   1.   1. ]\n",
      " [ 1.   1.   0.2  1.   1.   1. ]]\n",
      "Outflow Point Flood Fill\n",
      "  h_max: 11.0\n",
      "[[ 1.   1.   1.   1.   1.   1. ]\n",
      " [ 1.   0.6  1.   1.   1.   1. ]\n",
      " [ 0.1  0.6  0.4  0.4  1.   1. ]\n",
      " [ 0.2  0.7  0.4  0.4  0.1  1. ]\n",
      " [ 1.   0.8  0.4  1.   1.   1. ]\n",
      " [ 1.   1.   0.4  1.   1.   1. ]]\n"
     ]
    }
   ],
   "source": [
    "dem_fill = dem_adj.copy()\n",
    "print(dem_fill)\n",
    "dem_mask = (hru_type > 0)\n",
    "dem_fill[~dem_mask] = np.nan\n",
    "\n",
    "dem_fill = outflow_fill(dem_fill, outflow_pts, four_way=True)\n",
    "dem_fill[~dem_mask] = dem_adj[~dem_mask]\n",
    "print(dem_fill)"
   ]
  },
  {
   "cell_type": "code",
   "execution_count": null,
   "metadata": {},
   "outputs": [],
   "source": []
  },
  {
   "cell_type": "code",
   "execution_count": null,
   "metadata": {},
   "outputs": [],
   "source": []
  }
 ],
 "metadata": {
  "kernelspec": {
   "display_name": "Python 2",
   "language": "python",
   "name": "python2"
  },
  "language_info": {
   "codemirror_mode": {
    "name": "ipython",
    "version": 2
   },
   "file_extension": ".py",
   "mimetype": "text/x-python",
   "name": "python",
   "nbconvert_exporter": "python",
   "pygments_lexer": "ipython2",
   "version": "2.7.14"
  }
 },
 "nbformat": 4,
 "nbformat_minor": 2
}
